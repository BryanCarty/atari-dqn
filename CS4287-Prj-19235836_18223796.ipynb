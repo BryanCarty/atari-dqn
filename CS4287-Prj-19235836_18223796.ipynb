{
 "cells": [
  {
   "cell_type": "markdown",
   "metadata": {},
   "source": [
    "# Assignment 2: Reinforcement Learning\n",
    "## Implementation of an Atari Breakout RL Agent using a Double Deep Q Network\n",
    "\n",
    "Team memebers: Bryan Carty (19235836) & Eoin Chedzey (18223796)<br>\n",
    "This code executes all the way through, without an error.<br>\n",
    "Our code is based on the Atari Breakout implementation in the book 'Hands-On Machine Learning with Scikit-Learn, Keras & Tensorflow' by Aurélien Géron. The jupyter notebook covering the reinforcement learning chapter can be found at: https://github.com/ageron/handson-ml2/blob/master/18_reinforcement_learning.ipynb\n",
    "\n",
    "With the exception of a few hyperparameters, the hyperparameters we found to be optimal correspond to those outlined in the 'Human-level control through deep reinforcement learning' paper by DeepMind in 2015. It can be found at: https://www.nature.com/articles/nature14236?wm=book_wap_0005<br><br><br>"
   ]
  },
  {
   "cell_type": "markdown",
   "metadata": {},
   "source": [
    "### Double DQN Implementation"
   ]
  },
  {
   "cell_type": "markdown",
   "metadata": {},
   "source": [
    "**Imports**"
   ]
  },
  {
   "cell_type": "code",
   "execution_count": 1,
   "metadata": {},
   "outputs": [],
   "source": [
    "from tf_agents.environments import suite_atari # Suite for loading Atari Gym environments\n",
    "from tf_agents.environments.atari_preprocessing import AtariPreprocessing # Does the same preprocessing as was done on Nature's 2015 DQN paper\n",
    "from tf_agents.environments.atari_wrappers import FrameStack4 # Stacks previous 4 frames\n",
    "import tensorflow as tf\n",
    "import numpy as np"
   ]
  },
  {
   "cell_type": "markdown",
   "metadata": {},
   "source": [
    "**Constants**"
   ]
  },
  {
   "cell_type": "code",
   "execution_count": 2,
   "metadata": {},
   "outputs": [],
   "source": [
    "max_episode_steps = 27000 # 4 frames per step, so a max of 108k frames per episode\n",
    "environment_name = \"BreakoutNoFrameskip-v4\" # Environment does not have frame skipping by default"
   ]
  },
  {
   "cell_type": "markdown",
   "metadata": {},
   "source": [
    "**Custom class to perform preprocessing on Atari Breakout Frames**"
   ]
  },
  {
   "cell_type": "code",
   "execution_count": 3,
   "metadata": {},
   "outputs": [],
   "source": [
    "class AtariPreprocessingWithAutoFire(AtariPreprocessing):\n",
    "    def reset(self, **kwargs):\n",
    "        obs = super().reset(**kwargs)\n",
    "        super().step(1) # FIRE to start\n",
    "        return obs\n",
    "    def step(self, action):\n",
    "        lives_before_action = self.ale.lives()\n",
    "        obs, rewards, done, info = super().step(action) # done is true when a life is lost and terminal_on_life_loss, or when the episode is over.\n",
    "        if self.ale.lives() < lives_before_action and not done: \n",
    "            super().step(1) # FIRE to start after life lost\n",
    "        return obs, rewards, done, info"
   ]
  },
  {
   "cell_type": "markdown",
   "metadata": {},
   "source": [
    "**Load Atari Breakout Environment (wrapped with preprocessing and framestacking)**"
   ]
  },
  {
   "cell_type": "code",
   "execution_count": 4,
   "metadata": {},
   "outputs": [],
   "source": [
    "env = suite_atari.load( \n",
    "    environment_name, # Load a wrapped BreakoutNoFrameskip environment, with a max of 27,000 steps per episode.\n",
    "    max_episode_steps=max_episode_steps, # AtariPreprocessing wrapper implements same preprocessing done in 2015 DQN paper e.g. convert to greyscale, scale to 84 x 84 pixels, implement frame skipping (4 frames). Hover over AtariPreprocessing to see the rest.\n",
    "    gym_env_wrappers=[AtariPreprocessingWithAutoFire, FrameStack4] # In addition to frame skipping, these skipped frames are stacked, one on top of another (deciphers velocity). Stack size = 4.\n",
    ")"
   ]
  },
  {
   "cell_type": "markdown",
   "metadata": {},
   "source": [
    "**Display what preprocessed observation looks like**"
   ]
  },
  {
   "cell_type": "code",
   "execution_count": 5,
   "metadata": {},
   "outputs": [
    {
     "name": "stdout",
     "output_type": "stream",
     "text": [
      "Saving figure preprocessed_breakout_observation_plot\n"
     ]
    },
    {
     "data": {
      "image/png": "[encoded data removed]",
      "text/plain": [
       "<Figure size 600x600 with 1 Axes>"
      ]
     },
     "metadata": {},
     "output_type": "display_data"
    }
   ],
   "source": [
    "import matplotlib.pyplot as plt\n",
    "import os\n",
    "\n",
    "def save_fig(fig_id, tight_layout=True, fig_extension=\"png\", resolution=300):\n",
    "    path = os.path.join(\"images\", fig_id + \".\" + fig_extension)\n",
    "    print(\"Saving figure\", fig_id)\n",
    "    if tight_layout:\n",
    "        plt.tight_layout()\n",
    "    plt.savefig(path, format=fig_extension, dpi=resolution)\n",
    "\n",
    "env.seed(42)\n",
    "env.reset()\n",
    "for _ in range(4): # 4 as 4 frames are stacked together\n",
    "    time_step = env.step(3) # Move left\n",
    "\n",
    "def plot_observation(obs): # function to plot observation\n",
    "    # red = 3 time steps ago\n",
    "    # green = 2 time steps ago\n",
    "    # blue = previous frame\n",
    "    # purple = current frame\n",
    "    obs = obs.astype(np.float32)\n",
    "    img = obs[..., :3]\n",
    "    current_frame_delta = np.maximum(obs[..., 3] - obs[..., :3].mean(axis=-1), 0.)\n",
    "    img[..., 0] += current_frame_delta\n",
    "    img[..., 2] += current_frame_delta\n",
    "    img = np.clip(img / 150, 0, 1)\n",
    "    plt.imshow(img)\n",
    "    plt.axis(\"off\")\n",
    "plt.figure(figsize=(6, 6))\n",
    "plot_observation(time_step.observation)\n",
    "save_fig(\"preprocessed_breakout_observation_plot\")\n",
    "plt.show()"
   ]
  },
  {
   "cell_type": "markdown",
   "metadata": {},
   "source": [
    "**wrap the environment inside a TFPyEnvironment.**"
   ]
  },
  {
   "cell_type": "code",
   "execution_count": 6,
   "metadata": {},
   "outputs": [],
   "source": [
    "from tf_agents.environments.tf_py_environment import TFPyEnvironment\n",
    "tf_env = TFPyEnvironment(env) # We wrap the environment inside a TFPyEnvironment. This will make the environment usable within a Tensorflow graph."
   ]
  },
  {
   "cell_type": "markdown",
   "metadata": {},
   "source": [
    "**Create Q Network**"
   ]
  },
  {
   "cell_type": "code",
   "execution_count": 7,
   "metadata": {},
   "outputs": [],
   "source": [
    "from tf_agents.networks.q_network import QNetwork # Q Network -> takes an observation as input and outputs 1 Q-Value per action.\n",
    "preprocessing_layer = tf.keras.layers.Lambda(lambda obs: tf.cast(obs, np.float32)/255.) # This layer casts the observations to 32 bit floats and normalizes them (values will range from 0.0 -> 1.0)\n",
    "conv_layer_params = [(32, (8,8), 4), (64, (4,4), 2), (64, (3,3), 1)] # 3 convolution layers -> a layer being (num filters, (filter dimensions), stride)\n",
    "fc_layer_params = [512] # a dense layer with 512 units. This layer is followed by a dense layer with 4 units -> 1 per action. Outputs Q value.\n",
    "                    # input tensor spec, action tensor spec, preprocessing layer, conv layer, fully connected layer params.\n",
    "q_net = QNetwork(tf_env.observation_spec(), tf_env.action_spec(), preprocessing_layers=preprocessing_layer, conv_layer_params=conv_layer_params, fc_layer_params=fc_layer_params, kernel_initializer=tf.initializers.glorot_uniform)\n"
   ]
  },
  {
   "cell_type": "markdown",
   "metadata": {},
   "source": [
    "**Create and initialize DQN Agent**"
   ]
  },
  {
   "cell_type": "code",
   "execution_count": 8,
   "metadata": {},
   "outputs": [
    {
     "ename": "KeyboardInterrupt",
     "evalue": "",
     "output_type": "error",
     "traceback": [
      "\u001b[1;31m---------------------------------------------------------------------------\u001b[0m",
      "\u001b[1;31mKeyboardInterrupt\u001b[0m                         Traceback (most recent call last)",
      "Cell \u001b[1;32mIn [8], line 10\u001b[0m\n\u001b[0;32m      4\u001b[0m optimizer \u001b[39m=\u001b[39m tf\u001b[39m.\u001b[39mkeras\u001b[39m.\u001b[39moptimizers\u001b[39m.\u001b[39mRMSprop(learning_rate\u001b[39m=\u001b[39m\u001b[39m2.5e-4\u001b[39m, rho\u001b[39m=\u001b[39m\u001b[39m0.95\u001b[39m, momentum\u001b[39m=\u001b[39m\u001b[39m0.0\u001b[39m, epsilon\u001b[39m=\u001b[39m\u001b[39m0.00001\u001b[39m, centered\u001b[39m=\u001b[39m\u001b[39mTrue\u001b[39;00m) \u001b[39m# same hyperparameters as in 2015 DQN paper.\u001b[39;00m\n\u001b[0;32m      5\u001b[0m epsilon_fn \u001b[39m=\u001b[39m tf\u001b[39m.\u001b[39mkeras\u001b[39m.\u001b[39moptimizers\u001b[39m.\u001b[39mschedules\u001b[39m.\u001b[39mPolynomialDecay( \u001b[39m# will compute epsilon for a given training step. Will go from 1.0 to 0.001. The value used in 2015 DQN paper is 1,000,000 frames so 250,000 steps. But since we're training every 4 steps (16 frames), we'll decay over 62,500 training steps\u001b[39;00m\n\u001b[0;32m      6\u001b[0m     initial_learning_rate\u001b[39m=\u001b[39m\u001b[39m1.0\u001b[39m,\n\u001b[0;32m      7\u001b[0m     decay_steps\u001b[39m=\u001b[39m \u001b[39m250000\u001b[39m \u001b[39m/\u001b[39m\u001b[39m/\u001b[39m update_period, \u001b[39m# number of decay steps # 1,000,000 ALE frames  # // Performs floor-division on the values on either side. Then assigns it to the expression on the left.\u001b[39;00m\n\u001b[0;32m      8\u001b[0m     end_learning_rate\u001b[39m=\u001b[39m\u001b[39m0.01\u001b[39m\n\u001b[0;32m      9\u001b[0m )\n\u001b[1;32m---> 10\u001b[0m agent \u001b[39m=\u001b[39m DqnAgent( \u001b[39m# Creates a DQN Agent\u001b[39;00m\n\u001b[0;32m     11\u001b[0m     tf_env\u001b[39m.\u001b[39mtime_step_spec(), \n\u001b[0;32m     12\u001b[0m     tf_env\u001b[39m.\u001b[39maction_spec(), \n\u001b[0;32m     13\u001b[0m     q_network\u001b[39m=\u001b[39mq_net, \n\u001b[0;32m     14\u001b[0m     optimizer\u001b[39m=\u001b[39moptimizer, \n\u001b[0;32m     15\u001b[0m     target_update_period\u001b[39m=\u001b[39m\u001b[39m2000\u001b[39m, \u001b[39m# Period for soft update of the target networks. 2000 x 4 = 8000, 8000 x 4 = 32,000 ALE Frames.\u001b[39;00m\n\u001b[0;32m     16\u001b[0m     td_errors_loss_fn\u001b[39m=\u001b[39mtf\u001b[39m.\u001b[39mkeras\u001b[39m.\u001b[39mlosses\u001b[39m.\u001b[39mHuber(reduction\u001b[39m=\u001b[39m\u001b[39m\"\u001b[39m\u001b[39mnone\u001b[39m\u001b[39m\"\u001b[39m), \u001b[39m# The Huber loss function can be used to balance between the Mean Absolute Error and the Mean Squared Error. It is therefore a good loss function for when you have varied data or only a few outliers. Reduction is none so it returns error per instance not the mean error.\u001b[39;00m\n\u001b[0;32m     17\u001b[0m     gamma\u001b[39m=\u001b[39m\u001b[39m0.99\u001b[39m, \u001b[39m# discount factor\u001b[39;00m\n\u001b[0;32m     18\u001b[0m     train_step_counter\u001b[39m=\u001b[39mtrain_step, \u001b[39m# counts number of training steps\u001b[39;00m\n\u001b[0;32m     19\u001b[0m     epsilon_greedy\u001b[39m=\u001b[39m\u001b[39mlambda\u001b[39;00m: epsilon_fn(train_step) \u001b[39m# function to compute epsilon for a given training step.\u001b[39;00m\n\u001b[0;32m     20\u001b[0m )\n\u001b[0;32m     21\u001b[0m agent\u001b[39m.\u001b[39minitialize()\n",
      "File \u001b[1;32mc:\\Users\\bcart\\AppData\\Local\\Programs\\Python\\Python310\\lib\\site-packages\\gin\\config.py:1582\u001b[0m, in \u001b[0;36m_make_gin_wrapper.<locals>.gin_wrapper\u001b[1;34m(*args, **kwargs)\u001b[0m\n\u001b[0;32m   1579\u001b[0m new_kwargs\u001b[39m.\u001b[39mupdate(kwargs)\n\u001b[0;32m   1581\u001b[0m \u001b[39mtry\u001b[39;00m:\n\u001b[1;32m-> 1582\u001b[0m   \u001b[39mreturn\u001b[39;00m fn(\u001b[39m*\u001b[39mnew_args, \u001b[39m*\u001b[39m\u001b[39m*\u001b[39mnew_kwargs)\n\u001b[0;32m   1583\u001b[0m \u001b[39mexcept\u001b[39;00m \u001b[39mException\u001b[39;00m \u001b[39mas\u001b[39;00m e:  \u001b[39m# pylint: disable=broad-except\u001b[39;00m\n\u001b[0;32m   1584\u001b[0m   err_str \u001b[39m=\u001b[39m \u001b[39m'\u001b[39m\u001b[39m'\u001b[39m\n",
      "File \u001b[1;32mc:\\Users\\bcart\\AppData\\Local\\Programs\\Python\\Python310\\lib\\site-packages\\tf_agents\\agents\\dqn\\dqn_agent.py:239\u001b[0m, in \u001b[0;36mDqnAgent.__init__\u001b[1;34m(self, time_step_spec, action_spec, q_network, optimizer, observation_and_action_constraint_splitter, epsilon_greedy, n_step_update, boltzmann_temperature, emit_log_probability, target_q_network, target_update_tau, target_update_period, td_errors_loss_fn, gamma, reward_scale_factor, gradient_clipping, debug_summaries, summarize_grads_and_vars, train_step_counter, training_data_spec, name)\u001b[0m\n\u001b[0;32m    236\u001b[0m \u001b[39mif\u001b[39;00m observation_and_action_constraint_splitter:\n\u001b[0;32m    237\u001b[0m   net_observation_spec, _ \u001b[39m=\u001b[39m observation_and_action_constraint_splitter(\n\u001b[0;32m    238\u001b[0m       net_observation_spec)\n\u001b[1;32m--> 239\u001b[0m q_network\u001b[39m.\u001b[39;49mcreate_variables(net_observation_spec)\n\u001b[0;32m    240\u001b[0m \u001b[39mif\u001b[39;00m target_q_network:\n\u001b[0;32m    241\u001b[0m   target_q_network\u001b[39m.\u001b[39mcreate_variables(net_observation_spec)\n",
      "File \u001b[1;32mc:\\Users\\bcart\\AppData\\Local\\Programs\\Python\\Python310\\lib\\site-packages\\tf_agents\\networks\\network.py:221\u001b[0m, in \u001b[0;36mNetwork.create_variables\u001b[1;34m(self, input_tensor_spec, **kwargs)\u001b[0m\n\u001b[0;32m    219\u001b[0m initial_state \u001b[39m=\u001b[39m \u001b[39mself\u001b[39m\u001b[39m.\u001b[39mget_initial_state(batch_size\u001b[39m=\u001b[39m\u001b[39m1\u001b[39m)\n\u001b[0;32m    220\u001b[0m step_type \u001b[39m=\u001b[39m tf\u001b[39m.\u001b[39mfill((\u001b[39m1\u001b[39m,), time_step\u001b[39m.\u001b[39mStepType\u001b[39m.\u001b[39mFIRST)\n\u001b[1;32m--> 221\u001b[0m outputs \u001b[39m=\u001b[39m \u001b[39mself\u001b[39m\u001b[39m.\u001b[39m\u001b[39m__call__\u001b[39m(\n\u001b[0;32m    222\u001b[0m     random_input,\n\u001b[0;32m    223\u001b[0m     step_type\u001b[39m=\u001b[39mstep_type,\n\u001b[0;32m    224\u001b[0m     network_state\u001b[39m=\u001b[39minitial_state,\n\u001b[0;32m    225\u001b[0m     \u001b[39m*\u001b[39m\u001b[39m*\u001b[39mkwargs)\n\u001b[0;32m    227\u001b[0m \u001b[39mdef\u001b[39;00m \u001b[39m_calc_unbatched_spec\u001b[39m(x):\n\u001b[0;32m    228\u001b[0m   \u001b[39m\"\"\"Build Network output spec by removing previously added batch dimension.\u001b[39;00m\n\u001b[0;32m    229\u001b[0m \n\u001b[0;32m    230\u001b[0m \u001b[39m  Args:\u001b[39;00m\n\u001b[1;32m   (...)\u001b[0m\n\u001b[0;32m    233\u001b[0m \u001b[39m    Specs without batch dimension representing x.\u001b[39;00m\n\u001b[0;32m    234\u001b[0m \u001b[39m  \"\"\"\u001b[39;00m\n",
      "File \u001b[1;32mc:\\Users\\bcart\\AppData\\Local\\Programs\\Python\\Python310\\lib\\site-packages\\tf_agents\\networks\\network.py:427\u001b[0m, in \u001b[0;36mNetwork.__call__\u001b[1;34m(self, inputs, *args, **kwargs)\u001b[0m\n\u001b[0;32m    421\u001b[0m \u001b[39mif\u001b[39;00m (\u001b[39mnot\u001b[39;00m tf\u001b[39m.\u001b[39mis_tensor(network_state)\n\u001b[0;32m    422\u001b[0m     \u001b[39mand\u001b[39;00m network_state \u001b[39min\u001b[39;00m (\u001b[39mNone\u001b[39;00m, ())\n\u001b[0;32m    423\u001b[0m     \u001b[39mand\u001b[39;00m \u001b[39m\"\u001b[39m\u001b[39mnetwork_state\u001b[39m\u001b[39m\"\u001b[39m \u001b[39mnot\u001b[39;00m \u001b[39min\u001b[39;00m call_argspec\u001b[39m.\u001b[39margs\n\u001b[0;32m    424\u001b[0m     \u001b[39mand\u001b[39;00m \u001b[39mnot\u001b[39;00m call_argspec\u001b[39m.\u001b[39mkeywords):\n\u001b[0;32m    425\u001b[0m   normalized_kwargs\u001b[39m.\u001b[39mpop(\u001b[39m\"\u001b[39m\u001b[39mnetwork_state\u001b[39m\u001b[39m\"\u001b[39m, \u001b[39mNone\u001b[39;00m)\n\u001b[1;32m--> 427\u001b[0m outputs, new_state \u001b[39m=\u001b[39m \u001b[39msuper\u001b[39m(Network, \u001b[39mself\u001b[39m)\u001b[39m.\u001b[39m\u001b[39m__call__\u001b[39m(\u001b[39m*\u001b[39m\u001b[39m*\u001b[39mnormalized_kwargs)  \u001b[39m# pytype: disable=attribute-error  # typed-keras\u001b[39;00m\n\u001b[0;32m    429\u001b[0m nest_utils\u001b[39m.\u001b[39massert_matching_dtypes_and_inner_shapes(\n\u001b[0;32m    430\u001b[0m     new_state,\n\u001b[0;32m    431\u001b[0m     \u001b[39mself\u001b[39m\u001b[39m.\u001b[39mstate_spec,\n\u001b[1;32m   (...)\u001b[0m\n\u001b[0;32m    434\u001b[0m     tensors_name\u001b[39m=\u001b[39m\u001b[39m\"\u001b[39m\u001b[39m`new_state`\u001b[39m\u001b[39m\"\u001b[39m,\n\u001b[0;32m    435\u001b[0m     specs_name\u001b[39m=\u001b[39m\u001b[39m\"\u001b[39m\u001b[39m`state_spec`\u001b[39m\u001b[39m\"\u001b[39m)\n\u001b[0;32m    437\u001b[0m \u001b[39mreturn\u001b[39;00m outputs, new_state\n",
      "File \u001b[1;32mc:\\Users\\bcart\\AppData\\Local\\Programs\\Python\\Python310\\lib\\site-packages\\keras\\utils\\traceback_utils.py:65\u001b[0m, in \u001b[0;36mfilter_traceback.<locals>.error_handler\u001b[1;34m(*args, **kwargs)\u001b[0m\n\u001b[0;32m     63\u001b[0m filtered_tb \u001b[39m=\u001b[39m \u001b[39mNone\u001b[39;00m\n\u001b[0;32m     64\u001b[0m \u001b[39mtry\u001b[39;00m:\n\u001b[1;32m---> 65\u001b[0m     \u001b[39mreturn\u001b[39;00m fn(\u001b[39m*\u001b[39margs, \u001b[39m*\u001b[39m\u001b[39m*\u001b[39mkwargs)\n\u001b[0;32m     66\u001b[0m \u001b[39mexcept\u001b[39;00m \u001b[39mException\u001b[39;00m \u001b[39mas\u001b[39;00m e:\n\u001b[0;32m     67\u001b[0m     filtered_tb \u001b[39m=\u001b[39m _process_traceback_frames(e\u001b[39m.\u001b[39m__traceback__)\n",
      "File \u001b[1;32mc:\\Users\\bcart\\AppData\\Local\\Programs\\Python\\Python310\\lib\\site-packages\\keras\\engine\\base_layer.py:1097\u001b[0m, in \u001b[0;36mLayer.__call__\u001b[1;34m(self, *args, **kwargs)\u001b[0m\n\u001b[0;32m   1092\u001b[0m     inputs \u001b[39m=\u001b[39m \u001b[39mself\u001b[39m\u001b[39m.\u001b[39m_maybe_cast_inputs(inputs, input_list)\n\u001b[0;32m   1094\u001b[0m \u001b[39mwith\u001b[39;00m autocast_variable\u001b[39m.\u001b[39menable_auto_cast_variables(\n\u001b[0;32m   1095\u001b[0m     \u001b[39mself\u001b[39m\u001b[39m.\u001b[39m_compute_dtype_object\n\u001b[0;32m   1096\u001b[0m ):\n\u001b[1;32m-> 1097\u001b[0m     outputs \u001b[39m=\u001b[39m call_fn(inputs, \u001b[39m*\u001b[39margs, \u001b[39m*\u001b[39m\u001b[39m*\u001b[39mkwargs)\n\u001b[0;32m   1099\u001b[0m \u001b[39mif\u001b[39;00m \u001b[39mself\u001b[39m\u001b[39m.\u001b[39m_activity_regularizer:\n\u001b[0;32m   1100\u001b[0m     \u001b[39mself\u001b[39m\u001b[39m.\u001b[39m_handle_activity_regularization(inputs, outputs)\n",
      "File \u001b[1;32mc:\\Users\\bcart\\AppData\\Local\\Programs\\Python\\Python310\\lib\\site-packages\\keras\\utils\\traceback_utils.py:96\u001b[0m, in \u001b[0;36minject_argument_info_in_traceback.<locals>.error_handler\u001b[1;34m(*args, **kwargs)\u001b[0m\n\u001b[0;32m     94\u001b[0m bound_signature \u001b[39m=\u001b[39m \u001b[39mNone\u001b[39;00m\n\u001b[0;32m     95\u001b[0m \u001b[39mtry\u001b[39;00m:\n\u001b[1;32m---> 96\u001b[0m     \u001b[39mreturn\u001b[39;00m fn(\u001b[39m*\u001b[39margs, \u001b[39m*\u001b[39m\u001b[39m*\u001b[39mkwargs)\n\u001b[0;32m     97\u001b[0m \u001b[39mexcept\u001b[39;00m \u001b[39mException\u001b[39;00m \u001b[39mas\u001b[39;00m e:\n\u001b[0;32m     98\u001b[0m     \u001b[39mif\u001b[39;00m \u001b[39mhasattr\u001b[39m(e, \u001b[39m\"\u001b[39m\u001b[39m_keras_call_info_injected\u001b[39m\u001b[39m\"\u001b[39m):\n\u001b[0;32m     99\u001b[0m         \u001b[39m# Only inject info for the innermost failing call\u001b[39;00m\n",
      "File \u001b[1;32mc:\\Users\\bcart\\AppData\\Local\\Programs\\Python\\Python310\\lib\\site-packages\\tf_agents\\networks\\q_network.py:147\u001b[0m, in \u001b[0;36mQNetwork.call\u001b[1;34m(self, observation, step_type, network_state, training)\u001b[0m\n\u001b[0;32m    134\u001b[0m \u001b[39mdef\u001b[39;00m \u001b[39mcall\u001b[39m(\u001b[39mself\u001b[39m, observation, step_type\u001b[39m=\u001b[39m\u001b[39mNone\u001b[39;00m, network_state\u001b[39m=\u001b[39m(), training\u001b[39m=\u001b[39m\u001b[39mFalse\u001b[39;00m):\n\u001b[0;32m    135\u001b[0m   \u001b[39m\"\"\"Runs the given observation through the network.\u001b[39;00m\n\u001b[0;32m    136\u001b[0m \n\u001b[0;32m    137\u001b[0m \u001b[39m  Args:\u001b[39;00m\n\u001b[1;32m   (...)\u001b[0m\n\u001b[0;32m    145\u001b[0m \u001b[39m    A tuple `(logits, network_state)`.\u001b[39;00m\n\u001b[0;32m    146\u001b[0m \u001b[39m  \"\"\"\u001b[39;00m\n\u001b[1;32m--> 147\u001b[0m   state, network_state \u001b[39m=\u001b[39m \u001b[39mself\u001b[39;49m\u001b[39m.\u001b[39;49m_encoder(\n\u001b[0;32m    148\u001b[0m       observation, step_type\u001b[39m=\u001b[39;49mstep_type, network_state\u001b[39m=\u001b[39;49mnetwork_state,\n\u001b[0;32m    149\u001b[0m       training\u001b[39m=\u001b[39;49mtraining)\n\u001b[0;32m    150\u001b[0m   q_value \u001b[39m=\u001b[39m \u001b[39mself\u001b[39m\u001b[39m.\u001b[39m_q_value_layer(state, training\u001b[39m=\u001b[39mtraining)\n\u001b[0;32m    151\u001b[0m   \u001b[39mreturn\u001b[39;00m q_value, network_state\n",
      "File \u001b[1;32mc:\\Users\\bcart\\AppData\\Local\\Programs\\Python\\Python310\\lib\\site-packages\\tf_agents\\networks\\network.py:427\u001b[0m, in \u001b[0;36mNetwork.__call__\u001b[1;34m(self, inputs, *args, **kwargs)\u001b[0m\n\u001b[0;32m    421\u001b[0m \u001b[39mif\u001b[39;00m (\u001b[39mnot\u001b[39;00m tf\u001b[39m.\u001b[39mis_tensor(network_state)\n\u001b[0;32m    422\u001b[0m     \u001b[39mand\u001b[39;00m network_state \u001b[39min\u001b[39;00m (\u001b[39mNone\u001b[39;00m, ())\n\u001b[0;32m    423\u001b[0m     \u001b[39mand\u001b[39;00m \u001b[39m\"\u001b[39m\u001b[39mnetwork_state\u001b[39m\u001b[39m\"\u001b[39m \u001b[39mnot\u001b[39;00m \u001b[39min\u001b[39;00m call_argspec\u001b[39m.\u001b[39margs\n\u001b[0;32m    424\u001b[0m     \u001b[39mand\u001b[39;00m \u001b[39mnot\u001b[39;00m call_argspec\u001b[39m.\u001b[39mkeywords):\n\u001b[0;32m    425\u001b[0m   normalized_kwargs\u001b[39m.\u001b[39mpop(\u001b[39m\"\u001b[39m\u001b[39mnetwork_state\u001b[39m\u001b[39m\"\u001b[39m, \u001b[39mNone\u001b[39;00m)\n\u001b[1;32m--> 427\u001b[0m outputs, new_state \u001b[39m=\u001b[39m \u001b[39msuper\u001b[39m(Network, \u001b[39mself\u001b[39m)\u001b[39m.\u001b[39m\u001b[39m__call__\u001b[39m(\u001b[39m*\u001b[39m\u001b[39m*\u001b[39mnormalized_kwargs)  \u001b[39m# pytype: disable=attribute-error  # typed-keras\u001b[39;00m\n\u001b[0;32m    429\u001b[0m nest_utils\u001b[39m.\u001b[39massert_matching_dtypes_and_inner_shapes(\n\u001b[0;32m    430\u001b[0m     new_state,\n\u001b[0;32m    431\u001b[0m     \u001b[39mself\u001b[39m\u001b[39m.\u001b[39mstate_spec,\n\u001b[1;32m   (...)\u001b[0m\n\u001b[0;32m    434\u001b[0m     tensors_name\u001b[39m=\u001b[39m\u001b[39m\"\u001b[39m\u001b[39m`new_state`\u001b[39m\u001b[39m\"\u001b[39m,\n\u001b[0;32m    435\u001b[0m     specs_name\u001b[39m=\u001b[39m\u001b[39m\"\u001b[39m\u001b[39m`state_spec`\u001b[39m\u001b[39m\"\u001b[39m)\n\u001b[0;32m    437\u001b[0m \u001b[39mreturn\u001b[39;00m outputs, new_state\n",
      "File \u001b[1;32mc:\\Users\\bcart\\AppData\\Local\\Programs\\Python\\Python310\\lib\\site-packages\\keras\\utils\\traceback_utils.py:65\u001b[0m, in \u001b[0;36mfilter_traceback.<locals>.error_handler\u001b[1;34m(*args, **kwargs)\u001b[0m\n\u001b[0;32m     63\u001b[0m filtered_tb \u001b[39m=\u001b[39m \u001b[39mNone\u001b[39;00m\n\u001b[0;32m     64\u001b[0m \u001b[39mtry\u001b[39;00m:\n\u001b[1;32m---> 65\u001b[0m     \u001b[39mreturn\u001b[39;00m fn(\u001b[39m*\u001b[39margs, \u001b[39m*\u001b[39m\u001b[39m*\u001b[39mkwargs)\n\u001b[0;32m     66\u001b[0m \u001b[39mexcept\u001b[39;00m \u001b[39mException\u001b[39;00m \u001b[39mas\u001b[39;00m e:\n\u001b[0;32m     67\u001b[0m     filtered_tb \u001b[39m=\u001b[39m _process_traceback_frames(e\u001b[39m.\u001b[39m__traceback__)\n",
      "File \u001b[1;32mc:\\Users\\bcart\\AppData\\Local\\Programs\\Python\\Python310\\lib\\site-packages\\keras\\engine\\base_layer.py:1097\u001b[0m, in \u001b[0;36mLayer.__call__\u001b[1;34m(self, *args, **kwargs)\u001b[0m\n\u001b[0;32m   1092\u001b[0m     inputs \u001b[39m=\u001b[39m \u001b[39mself\u001b[39m\u001b[39m.\u001b[39m_maybe_cast_inputs(inputs, input_list)\n\u001b[0;32m   1094\u001b[0m \u001b[39mwith\u001b[39;00m autocast_variable\u001b[39m.\u001b[39menable_auto_cast_variables(\n\u001b[0;32m   1095\u001b[0m     \u001b[39mself\u001b[39m\u001b[39m.\u001b[39m_compute_dtype_object\n\u001b[0;32m   1096\u001b[0m ):\n\u001b[1;32m-> 1097\u001b[0m     outputs \u001b[39m=\u001b[39m call_fn(inputs, \u001b[39m*\u001b[39margs, \u001b[39m*\u001b[39m\u001b[39m*\u001b[39mkwargs)\n\u001b[0;32m   1099\u001b[0m \u001b[39mif\u001b[39;00m \u001b[39mself\u001b[39m\u001b[39m.\u001b[39m_activity_regularizer:\n\u001b[0;32m   1100\u001b[0m     \u001b[39mself\u001b[39m\u001b[39m.\u001b[39m_handle_activity_regularization(inputs, outputs)\n",
      "File \u001b[1;32mc:\\Users\\bcart\\AppData\\Local\\Programs\\Python\\Python310\\lib\\site-packages\\keras\\utils\\traceback_utils.py:96\u001b[0m, in \u001b[0;36minject_argument_info_in_traceback.<locals>.error_handler\u001b[1;34m(*args, **kwargs)\u001b[0m\n\u001b[0;32m     94\u001b[0m bound_signature \u001b[39m=\u001b[39m \u001b[39mNone\u001b[39;00m\n\u001b[0;32m     95\u001b[0m \u001b[39mtry\u001b[39;00m:\n\u001b[1;32m---> 96\u001b[0m     \u001b[39mreturn\u001b[39;00m fn(\u001b[39m*\u001b[39margs, \u001b[39m*\u001b[39m\u001b[39m*\u001b[39mkwargs)\n\u001b[0;32m     97\u001b[0m \u001b[39mexcept\u001b[39;00m \u001b[39mException\u001b[39;00m \u001b[39mas\u001b[39;00m e:\n\u001b[0;32m     98\u001b[0m     \u001b[39mif\u001b[39;00m \u001b[39mhasattr\u001b[39m(e, \u001b[39m\"\u001b[39m\u001b[39m_keras_call_info_injected\u001b[39m\u001b[39m\"\u001b[39m):\n\u001b[0;32m     99\u001b[0m         \u001b[39m# Only inject info for the innermost failing call\u001b[39;00m\n",
      "File \u001b[1;32mc:\\Users\\bcart\\AppData\\Local\\Programs\\Python\\Python310\\lib\\site-packages\\tf_agents\\networks\\encoding_network.py:328\u001b[0m, in \u001b[0;36mEncodingNetwork.call\u001b[1;34m(***failed resolving arguments***)\u001b[0m\n\u001b[0;32m    325\u001b[0m   states \u001b[39m=\u001b[39m \u001b[39mself\u001b[39m\u001b[39m.\u001b[39m_preprocessing_combiner(states)\n\u001b[0;32m    327\u001b[0m \u001b[39mfor\u001b[39;00m layer \u001b[39min\u001b[39;00m \u001b[39mself\u001b[39m\u001b[39m.\u001b[39m_postprocessing_layers:\n\u001b[1;32m--> 328\u001b[0m   states \u001b[39m=\u001b[39m layer(states, training\u001b[39m=\u001b[39;49mtraining)\n\u001b[0;32m    330\u001b[0m \u001b[39mif\u001b[39;00m \u001b[39mself\u001b[39m\u001b[39m.\u001b[39m_batch_squash:\n\u001b[0;32m    331\u001b[0m   states \u001b[39m=\u001b[39m tf\u001b[39m.\u001b[39mnest\u001b[39m.\u001b[39mmap_structure(batch_squash\u001b[39m.\u001b[39munflatten, states)\n",
      "File \u001b[1;32mc:\\Users\\bcart\\AppData\\Local\\Programs\\Python\\Python310\\lib\\site-packages\\keras\\utils\\traceback_utils.py:65\u001b[0m, in \u001b[0;36mfilter_traceback.<locals>.error_handler\u001b[1;34m(*args, **kwargs)\u001b[0m\n\u001b[0;32m     63\u001b[0m filtered_tb \u001b[39m=\u001b[39m \u001b[39mNone\u001b[39;00m\n\u001b[0;32m     64\u001b[0m \u001b[39mtry\u001b[39;00m:\n\u001b[1;32m---> 65\u001b[0m     \u001b[39mreturn\u001b[39;00m fn(\u001b[39m*\u001b[39margs, \u001b[39m*\u001b[39m\u001b[39m*\u001b[39mkwargs)\n\u001b[0;32m     66\u001b[0m \u001b[39mexcept\u001b[39;00m \u001b[39mException\u001b[39;00m \u001b[39mas\u001b[39;00m e:\n\u001b[0;32m     67\u001b[0m     filtered_tb \u001b[39m=\u001b[39m _process_traceback_frames(e\u001b[39m.\u001b[39m__traceback__)\n",
      "File \u001b[1;32mc:\\Users\\bcart\\AppData\\Local\\Programs\\Python\\Python310\\lib\\site-packages\\keras\\engine\\base_layer.py:1097\u001b[0m, in \u001b[0;36mLayer.__call__\u001b[1;34m(self, *args, **kwargs)\u001b[0m\n\u001b[0;32m   1092\u001b[0m     inputs \u001b[39m=\u001b[39m \u001b[39mself\u001b[39m\u001b[39m.\u001b[39m_maybe_cast_inputs(inputs, input_list)\n\u001b[0;32m   1094\u001b[0m \u001b[39mwith\u001b[39;00m autocast_variable\u001b[39m.\u001b[39menable_auto_cast_variables(\n\u001b[0;32m   1095\u001b[0m     \u001b[39mself\u001b[39m\u001b[39m.\u001b[39m_compute_dtype_object\n\u001b[0;32m   1096\u001b[0m ):\n\u001b[1;32m-> 1097\u001b[0m     outputs \u001b[39m=\u001b[39m call_fn(inputs, \u001b[39m*\u001b[39margs, \u001b[39m*\u001b[39m\u001b[39m*\u001b[39mkwargs)\n\u001b[0;32m   1099\u001b[0m \u001b[39mif\u001b[39;00m \u001b[39mself\u001b[39m\u001b[39m.\u001b[39m_activity_regularizer:\n\u001b[0;32m   1100\u001b[0m     \u001b[39mself\u001b[39m\u001b[39m.\u001b[39m_handle_activity_regularization(inputs, outputs)\n",
      "File \u001b[1;32mc:\\Users\\bcart\\AppData\\Local\\Programs\\Python\\Python310\\lib\\site-packages\\keras\\utils\\traceback_utils.py:96\u001b[0m, in \u001b[0;36minject_argument_info_in_traceback.<locals>.error_handler\u001b[1;34m(*args, **kwargs)\u001b[0m\n\u001b[0;32m     94\u001b[0m bound_signature \u001b[39m=\u001b[39m \u001b[39mNone\u001b[39;00m\n\u001b[0;32m     95\u001b[0m \u001b[39mtry\u001b[39;00m:\n\u001b[1;32m---> 96\u001b[0m     \u001b[39mreturn\u001b[39;00m fn(\u001b[39m*\u001b[39margs, \u001b[39m*\u001b[39m\u001b[39m*\u001b[39mkwargs)\n\u001b[0;32m     97\u001b[0m \u001b[39mexcept\u001b[39;00m \u001b[39mException\u001b[39;00m \u001b[39mas\u001b[39;00m e:\n\u001b[0;32m     98\u001b[0m     \u001b[39mif\u001b[39;00m \u001b[39mhasattr\u001b[39m(e, \u001b[39m\"\u001b[39m\u001b[39m_keras_call_info_injected\u001b[39m\u001b[39m\"\u001b[39m):\n\u001b[0;32m     99\u001b[0m         \u001b[39m# Only inject info for the innermost failing call\u001b[39;00m\n",
      "File \u001b[1;32mc:\\Users\\bcart\\AppData\\Local\\Programs\\Python\\Python310\\lib\\site-packages\\keras\\layers\\convolutional\\base_conv.py:283\u001b[0m, in \u001b[0;36mConv.call\u001b[1;34m(self, inputs)\u001b[0m\n\u001b[0;32m    279\u001b[0m     outputs \u001b[39m=\u001b[39m \u001b[39mself\u001b[39m\u001b[39m.\u001b[39m_jit_compiled_convolution_op(\n\u001b[0;32m    280\u001b[0m         inputs, tf\u001b[39m.\u001b[39mconvert_to_tensor(\u001b[39mself\u001b[39m\u001b[39m.\u001b[39mkernel)\n\u001b[0;32m    281\u001b[0m     )\n\u001b[0;32m    282\u001b[0m \u001b[39melse\u001b[39;00m:\n\u001b[1;32m--> 283\u001b[0m     outputs \u001b[39m=\u001b[39m \u001b[39mself\u001b[39;49m\u001b[39m.\u001b[39;49mconvolution_op(inputs, \u001b[39mself\u001b[39;49m\u001b[39m.\u001b[39;49mkernel)\n\u001b[0;32m    285\u001b[0m \u001b[39mif\u001b[39;00m \u001b[39mself\u001b[39m\u001b[39m.\u001b[39muse_bias:\n\u001b[0;32m    286\u001b[0m     output_rank \u001b[39m=\u001b[39m outputs\u001b[39m.\u001b[39mshape\u001b[39m.\u001b[39mrank\n",
      "File \u001b[1;32mc:\\Users\\bcart\\AppData\\Local\\Programs\\Python\\Python310\\lib\\site-packages\\keras\\layers\\convolutional\\base_conv.py:255\u001b[0m, in \u001b[0;36mConv.convolution_op\u001b[1;34m(self, inputs, kernel)\u001b[0m\n\u001b[0;32m    252\u001b[0m \u001b[39melse\u001b[39;00m:\n\u001b[0;32m    253\u001b[0m     tf_padding \u001b[39m=\u001b[39m \u001b[39mself\u001b[39m\u001b[39m.\u001b[39mpadding\n\u001b[1;32m--> 255\u001b[0m \u001b[39mreturn\u001b[39;00m tf\u001b[39m.\u001b[39;49mnn\u001b[39m.\u001b[39;49mconvolution(\n\u001b[0;32m    256\u001b[0m     inputs,\n\u001b[0;32m    257\u001b[0m     kernel,\n\u001b[0;32m    258\u001b[0m     strides\u001b[39m=\u001b[39;49m\u001b[39mlist\u001b[39;49m(\u001b[39mself\u001b[39;49m\u001b[39m.\u001b[39;49mstrides),\n\u001b[0;32m    259\u001b[0m     padding\u001b[39m=\u001b[39;49mtf_padding,\n\u001b[0;32m    260\u001b[0m     dilations\u001b[39m=\u001b[39;49m\u001b[39mlist\u001b[39;49m(\u001b[39mself\u001b[39;49m\u001b[39m.\u001b[39;49mdilation_rate),\n\u001b[0;32m    261\u001b[0m     data_format\u001b[39m=\u001b[39;49m\u001b[39mself\u001b[39;49m\u001b[39m.\u001b[39;49m_tf_data_format,\n\u001b[0;32m    262\u001b[0m     name\u001b[39m=\u001b[39;49m\u001b[39mself\u001b[39;49m\u001b[39m.\u001b[39;49m\u001b[39m__class__\u001b[39;49m\u001b[39m.\u001b[39;49m\u001b[39m__name__\u001b[39;49m,\n\u001b[0;32m    263\u001b[0m )\n",
      "File \u001b[1;32mc:\\Users\\bcart\\AppData\\Local\\Programs\\Python\\Python310\\lib\\site-packages\\tensorflow\\python\\util\\traceback_utils.py:150\u001b[0m, in \u001b[0;36mfilter_traceback.<locals>.error_handler\u001b[1;34m(*args, **kwargs)\u001b[0m\n\u001b[0;32m    148\u001b[0m filtered_tb \u001b[39m=\u001b[39m \u001b[39mNone\u001b[39;00m\n\u001b[0;32m    149\u001b[0m \u001b[39mtry\u001b[39;00m:\n\u001b[1;32m--> 150\u001b[0m   \u001b[39mreturn\u001b[39;00m fn(\u001b[39m*\u001b[39margs, \u001b[39m*\u001b[39m\u001b[39m*\u001b[39mkwargs)\n\u001b[0;32m    151\u001b[0m \u001b[39mexcept\u001b[39;00m \u001b[39mException\u001b[39;00m \u001b[39mas\u001b[39;00m e:\n\u001b[0;32m    152\u001b[0m   filtered_tb \u001b[39m=\u001b[39m _process_traceback_frames(e\u001b[39m.\u001b[39m__traceback__)\n",
      "File \u001b[1;32mc:\\Users\\bcart\\AppData\\Local\\Programs\\Python\\Python310\\lib\\site-packages\\tensorflow\\python\\util\\dispatch.py:1176\u001b[0m, in \u001b[0;36madd_dispatch_support.<locals>.decorator.<locals>.op_dispatch_handler\u001b[1;34m(*args, **kwargs)\u001b[0m\n\u001b[0;32m   1174\u001b[0m \u001b[39m# Fallback dispatch system (dispatch v1):\u001b[39;00m\n\u001b[0;32m   1175\u001b[0m \u001b[39mtry\u001b[39;00m:\n\u001b[1;32m-> 1176\u001b[0m   \u001b[39mreturn\u001b[39;00m dispatch_target(\u001b[39m*\u001b[39margs, \u001b[39m*\u001b[39m\u001b[39m*\u001b[39mkwargs)\n\u001b[0;32m   1177\u001b[0m \u001b[39mexcept\u001b[39;00m (\u001b[39mTypeError\u001b[39;00m, \u001b[39mValueError\u001b[39;00m):\n\u001b[0;32m   1178\u001b[0m   \u001b[39m# Note: convert_to_eager_tensor currently raises a ValueError, not a\u001b[39;00m\n\u001b[0;32m   1179\u001b[0m   \u001b[39m# TypeError, when given unexpected types.  So we need to catch both.\u001b[39;00m\n\u001b[0;32m   1180\u001b[0m   result \u001b[39m=\u001b[39m dispatch(op_dispatch_handler, args, kwargs)\n",
      "File \u001b[1;32mc:\\Users\\bcart\\AppData\\Local\\Programs\\Python\\Python310\\lib\\site-packages\\tensorflow\\python\\ops\\nn_ops.py:1181\u001b[0m, in \u001b[0;36mconvolution_v2\u001b[1;34m(input, filters, strides, padding, data_format, dilations, name)\u001b[0m\n\u001b[0;32m   1171\u001b[0m \u001b[39m@tf_export\u001b[39m(\u001b[39m\"\u001b[39m\u001b[39mnn.convolution\u001b[39m\u001b[39m\"\u001b[39m, v1\u001b[39m=\u001b[39m[])\n\u001b[0;32m   1172\u001b[0m \u001b[39m@dispatch\u001b[39m\u001b[39m.\u001b[39madd_dispatch_support\n\u001b[0;32m   1173\u001b[0m \u001b[39mdef\u001b[39;00m \u001b[39mconvolution_v2\u001b[39m(  \u001b[39m# pylint: disable=missing-docstring\u001b[39;00m\n\u001b[1;32m   (...)\u001b[0m\n\u001b[0;32m   1179\u001b[0m     dilations\u001b[39m=\u001b[39m\u001b[39mNone\u001b[39;00m,\n\u001b[0;32m   1180\u001b[0m     name\u001b[39m=\u001b[39m\u001b[39mNone\u001b[39;00m):\n\u001b[1;32m-> 1181\u001b[0m   \u001b[39mreturn\u001b[39;00m convolution_internal(\n\u001b[0;32m   1182\u001b[0m       \u001b[39minput\u001b[39;49m,  \u001b[39m# pylint: disable=redefined-builtin\u001b[39;49;00m\n\u001b[0;32m   1183\u001b[0m       filters,\n\u001b[0;32m   1184\u001b[0m       strides\u001b[39m=\u001b[39;49mstrides,\n\u001b[0;32m   1185\u001b[0m       padding\u001b[39m=\u001b[39;49mpadding,\n\u001b[0;32m   1186\u001b[0m       data_format\u001b[39m=\u001b[39;49mdata_format,\n\u001b[0;32m   1187\u001b[0m       dilations\u001b[39m=\u001b[39;49mdilations,\n\u001b[0;32m   1188\u001b[0m       name\u001b[39m=\u001b[39;49mname)\n",
      "File \u001b[1;32mc:\\Users\\bcart\\AppData\\Local\\Programs\\Python\\Python310\\lib\\site-packages\\tensorflow\\python\\ops\\nn_ops.py:1313\u001b[0m, in \u001b[0;36mconvolution_internal\u001b[1;34m(input, filters, strides, padding, data_format, dilations, name, call_from_convolution, num_spatial_dims)\u001b[0m\n\u001b[0;32m   1310\u001b[0m   \u001b[39melse\u001b[39;00m:\n\u001b[0;32m   1311\u001b[0m     op \u001b[39m=\u001b[39m conv1d\n\u001b[1;32m-> 1313\u001b[0m   \u001b[39mreturn\u001b[39;00m op(\n\u001b[0;32m   1314\u001b[0m       \u001b[39minput\u001b[39;49m,\n\u001b[0;32m   1315\u001b[0m       filters,\n\u001b[0;32m   1316\u001b[0m       strides,\n\u001b[0;32m   1317\u001b[0m       padding\u001b[39m=\u001b[39;49mpadding,\n\u001b[0;32m   1318\u001b[0m       data_format\u001b[39m=\u001b[39;49mdata_format,\n\u001b[0;32m   1319\u001b[0m       dilations\u001b[39m=\u001b[39;49mdilations,\n\u001b[0;32m   1320\u001b[0m       name\u001b[39m=\u001b[39;49mname)\n\u001b[0;32m   1321\u001b[0m \u001b[39melse\u001b[39;00m:\n\u001b[0;32m   1322\u001b[0m   \u001b[39mif\u001b[39;00m channel_index \u001b[39m==\u001b[39m \u001b[39m1\u001b[39m:\n",
      "File \u001b[1;32mc:\\Users\\bcart\\AppData\\Local\\Programs\\Python\\Python310\\lib\\site-packages\\tensorflow\\python\\ops\\nn_ops.py:2787\u001b[0m, in \u001b[0;36m_conv2d_expanded_batch\u001b[1;34m(input, filters, strides, padding, data_format, dilations, name)\u001b[0m\n\u001b[0;32m   2783\u001b[0m input_rank \u001b[39m=\u001b[39m \u001b[39minput\u001b[39m\u001b[39m.\u001b[39mshape\u001b[39m.\u001b[39mrank\n\u001b[0;32m   2784\u001b[0m \u001b[39mif\u001b[39;00m input_rank \u001b[39mis\u001b[39;00m \u001b[39mNone\u001b[39;00m \u001b[39mor\u001b[39;00m input_rank \u001b[39m<\u001b[39m \u001b[39m5\u001b[39m:\n\u001b[0;32m   2785\u001b[0m   \u001b[39m# We avoid calling squeeze_batch_dims to reduce extra python function\u001b[39;00m\n\u001b[0;32m   2786\u001b[0m   \u001b[39m# call slowdown in eager mode.  This branch doesn't require reshapes.\u001b[39;00m\n\u001b[1;32m-> 2787\u001b[0m   \u001b[39mreturn\u001b[39;00m gen_nn_ops\u001b[39m.\u001b[39;49mconv2d(\n\u001b[0;32m   2788\u001b[0m       \u001b[39minput\u001b[39;49m,\n\u001b[0;32m   2789\u001b[0m       \u001b[39mfilter\u001b[39;49m\u001b[39m=\u001b[39;49mfilters,\n\u001b[0;32m   2790\u001b[0m       strides\u001b[39m=\u001b[39;49mstrides,\n\u001b[0;32m   2791\u001b[0m       padding\u001b[39m=\u001b[39;49mpadding,\n\u001b[0;32m   2792\u001b[0m       data_format\u001b[39m=\u001b[39;49mdata_format,\n\u001b[0;32m   2793\u001b[0m       dilations\u001b[39m=\u001b[39;49mdilations,\n\u001b[0;32m   2794\u001b[0m       name\u001b[39m=\u001b[39;49mname)\n\u001b[0;32m   2795\u001b[0m \u001b[39mreturn\u001b[39;00m squeeze_batch_dims(\n\u001b[0;32m   2796\u001b[0m     \u001b[39minput\u001b[39m,\n\u001b[0;32m   2797\u001b[0m     functools\u001b[39m.\u001b[39mpartial(\n\u001b[1;32m   (...)\u001b[0m\n\u001b[0;32m   2804\u001b[0m     inner_rank\u001b[39m=\u001b[39m\u001b[39m3\u001b[39m,\n\u001b[0;32m   2805\u001b[0m     name\u001b[39m=\u001b[39mname)\n",
      "File \u001b[1;32mc:\\Users\\bcart\\AppData\\Local\\Programs\\Python\\Python310\\lib\\site-packages\\tensorflow\\python\\ops\\gen_nn_ops.py:1100\u001b[0m, in \u001b[0;36mconv2d\u001b[1;34m(input, filter, strides, padding, use_cudnn_on_gpu, explicit_paddings, data_format, dilations, name)\u001b[0m\n\u001b[0;32m   1098\u001b[0m \u001b[39mif\u001b[39;00m tld\u001b[39m.\u001b[39mis_eager:\n\u001b[0;32m   1099\u001b[0m   \u001b[39mtry\u001b[39;00m:\n\u001b[1;32m-> 1100\u001b[0m     _result \u001b[39m=\u001b[39m pywrap_tfe\u001b[39m.\u001b[39;49mTFE_Py_FastPathExecute(\n\u001b[0;32m   1101\u001b[0m       _ctx, \u001b[39m\"\u001b[39;49m\u001b[39mConv2D\u001b[39;49m\u001b[39m\"\u001b[39;49m, name, \u001b[39minput\u001b[39;49m, \u001b[39mfilter\u001b[39;49m, \u001b[39m\"\u001b[39;49m\u001b[39mstrides\u001b[39;49m\u001b[39m\"\u001b[39;49m, strides,\n\u001b[0;32m   1102\u001b[0m       \u001b[39m\"\u001b[39;49m\u001b[39muse_cudnn_on_gpu\u001b[39;49m\u001b[39m\"\u001b[39;49m, use_cudnn_on_gpu, \u001b[39m\"\u001b[39;49m\u001b[39mpadding\u001b[39;49m\u001b[39m\"\u001b[39;49m, padding,\n\u001b[0;32m   1103\u001b[0m       \u001b[39m\"\u001b[39;49m\u001b[39mexplicit_paddings\u001b[39;49m\u001b[39m\"\u001b[39;49m, explicit_paddings, \u001b[39m\"\u001b[39;49m\u001b[39mdata_format\u001b[39;49m\u001b[39m\"\u001b[39;49m, data_format,\n\u001b[0;32m   1104\u001b[0m       \u001b[39m\"\u001b[39;49m\u001b[39mdilations\u001b[39;49m\u001b[39m\"\u001b[39;49m, dilations)\n\u001b[0;32m   1105\u001b[0m     \u001b[39mreturn\u001b[39;00m _result\n\u001b[0;32m   1106\u001b[0m   \u001b[39mexcept\u001b[39;00m _core\u001b[39m.\u001b[39m_NotOkStatusException \u001b[39mas\u001b[39;00m e:\n",
      "\u001b[1;31mKeyboardInterrupt\u001b[0m: "
     ]
    }
   ],
   "source": [
    "from tf_agents.agents.dqn.dqn_agent import DqnAgent # Implements the DQN algorithm from \"Human level control through deep reinforcement learning\" Mnih et al., 2015\n",
    "train_step = tf.Variable(0) # counts the number of training steps\n",
    "update_period = 4 # train the model every 4 steps\n",
    "optimizer = tf.keras.optimizers.RMSprop(learning_rate=2.5e-4, rho=0.95, momentum=0.0, epsilon=0.00001, centered=True) # same hyperparameters as in 2015 DQN paper.\n",
    "epsilon_fn = tf.keras.optimizers.schedules.PolynomialDecay( # will compute epsilon for a given training step. Will go from 1.0 to 0.001. The value used in 2015 DQN paper is 1,000,000 frames so 250,000 steps. But since we're training every 4 steps (16 frames), we'll decay over 62,500 training steps\n",
    "    initial_learning_rate=1.0,\n",
    "    decay_steps= 250000 // update_period, # number of decay steps # 1,000,000 ALE frames  # // Performs floor-division on the values on either side. Then assigns it to the expression on the left.\n",
    "    end_learning_rate=0.01\n",
    ")\n",
    "agent = DqnAgent( # Creates a DQN Agent\n",
    "    tf_env.time_step_spec(), \n",
    "    tf_env.action_spec(), \n",
    "    q_network=q_net, \n",
    "    optimizer=optimizer, \n",
    "    target_update_period=2000, # Period for soft update of the target networks. 2000 x 4 = 8000, 8000 x 4 = 32,000 ALE Frames.\n",
    "    td_errors_loss_fn=tf.keras.losses.Huber(reduction=\"none\"), # The Huber loss function can be used to balance between the Mean Absolute Error and the Mean Squared Error. It is therefore a good loss function for when you have varied data or only a few outliers. Reduction is none so it returns error per instance not the mean error.\n",
    "    gamma=0.99, # discount factor\n",
    "    train_step_counter=train_step, # counts number of training steps\n",
    "    epsilon_greedy=lambda: epsilon_fn(train_step) # function to compute epsilon for a given training step.\n",
    ")\n",
    "agent.initialize() # initialize the agent"
   ]
  },
  {
   "cell_type": "markdown",
   "metadata": {},
   "source": [
    "**Create replay buffer**"
   ]
  },
  {
   "cell_type": "code",
   "execution_count": null,
   "metadata": {},
   "outputs": [],
   "source": [
    "from tf_agents.replay_buffers import tf_uniform_replay_buffer # A batched replay buffer of nests of Tensors which can be sampled uniformly. Would like to implement a prioritized experience replay buffer if time permits.\n",
    "replay_buffer = tf_uniform_replay_buffer.TFUniformReplayBuffer(\n",
    "    data_spec=agent.collect_data_spec, # specification of the data saved in the replay buffer.(trajectory spec) The DQN agent knows what the collected data looks like\n",
    "    batch_size=tf_env.batch_size, # In our case it's 1.\n",
    "    max_length=1000000 # max size of the replay buffer -> This will require a lot of RAM.\n",
    ")"
   ]
  },
  {
   "cell_type": "markdown",
   "metadata": {},
   "source": [
    "**Create observer that writes trajectories to the replay buffer**"
   ]
  },
  {
   "cell_type": "code",
   "execution_count": null,
   "metadata": {},
   "outputs": [],
   "source": [
    "replay_buffer_observer = replay_buffer.add_batch # an observer that writes trajectorys to the replay buffer."
   ]
  },
  {
   "cell_type": "markdown",
   "metadata": {},
   "source": [
    "**Create a custom observer to count the steps**"
   ]
  },
  {
   "cell_type": "code",
   "execution_count": null,
   "metadata": {},
   "outputs": [],
   "source": [
    "class ShowProgress: # custom observer to count steps. \n",
    "    def __init__(self, total):\n",
    "        self.counter=0\n",
    "        self.total=total\n",
    "    def __call__(self, trajectory):\n",
    "        if not trajectory.is_boundary:\n",
    "            self.counter+=1\n",
    "        if self.counter % 100 == 0:\n",
    "            print(\"\\r{}/{}\".format(self.counter, self.total), end=\"\")"
   ]
  },
  {
   "cell_type": "markdown",
   "metadata": {},
   "source": [
    "**Prepare for metric logging**"
   ]
  },
  {
   "cell_type": "code",
   "execution_count": null,
   "metadata": {},
   "outputs": [],
   "source": [
    "from tf_agents.metrics import tf_metrics \n",
    "train_metrics = [ # metrics\n",
    "    tf_metrics.NumberOfEpisodes(),\n",
    "    tf_metrics.EnvironmentSteps(),\n",
    "    tf_metrics.AverageReturnMetric(),#counts undiscounted rewards\n",
    "    tf_metrics.AverageEpisodeLengthMetric(),\n",
    "]\n",
    "\n",
    "from tf_agents.eval.metric_utils import log_metrics\n",
    "import logging\n",
    "logging.getLogger().setLevel(logging.INFO)"
   ]
  },
  {
   "cell_type": "markdown",
   "metadata": {},
   "source": [
    "**Create main driver**"
   ]
  },
  {
   "cell_type": "code",
   "execution_count": null,
   "metadata": {},
   "outputs": [],
   "source": [
    "from tf_agents.drivers.dynamic_step_driver import DynamicStepDriver \n",
    "collect_driver = DynamicStepDriver(\n",
    "    tf_env, # interact with this env\n",
    "    agent.collect_policy, # using this policy\n",
    "    observers=[replay_buffer_observer] + train_metrics,\n",
    "    num_steps=update_period # The number of steps to take in the environment. Collect 4 steps for each training iteration.\n",
    ")"
   ]
  },
  {
   "cell_type": "markdown",
   "metadata": {},
   "source": [
    "**Create driver to initialize replay buffer with transitions**"
   ]
  },
  {
   "cell_type": "code",
   "execution_count": null,
   "metadata": {},
   "outputs": [],
   "source": [
    "from tf_agents.policies.random_tf_policy import RandomTFPolicy\n",
    "initial_collect_policy = RandomTFPolicy(tf_env.time_step_spec(), tf_env.action_spec())\n",
    "init_driver = DynamicStepDriver(\n",
    "    tf_env, \n",
    "    initial_collect_policy, \n",
    "    observers=[replay_buffer.add_batch, ShowProgress(20000)],\n",
    "    num_steps=20000 # 80,000 ALE frames\n",
    ")"
   ]
  },
  {
   "cell_type": "markdown",
   "metadata": {},
   "source": [
    "**initialize replay buffer with transitions**"
   ]
  },
  {
   "cell_type": "code",
   "execution_count": null,
   "metadata": {},
   "outputs": [
    {
     "name": "stdout",
     "output_type": "stream",
     "text": [
      "0/20000"
     ]
    }
   ],
   "source": [
    "final_time_step, final_Policy_state = init_driver.run()"
   ]
  },
  {
   "cell_type": "markdown",
   "metadata": {},
   "source": [
    "**Sample 2 sub episodes from the replay buffer - 3 timesteps each**"
   ]
  },
  {
   "cell_type": "code",
   "execution_count": null,
   "metadata": {},
   "outputs": [
    {
     "name": "stdout",
     "output_type": "stream",
     "text": [
      "WARNING:tensorflow:From c:\\Users\\bcart\\AppData\\Local\\Programs\\Python\\Python310\\lib\\site-packages\\tensorflow\\python\\autograph\\impl\\api.py:377: ReplayBuffer.get_next (from tf_agents.replay_buffers.replay_buffer) is deprecated and will be removed in a future version.\n",
      "Instructions for updating:\n",
      "Use `as_dataset(..., single_deterministic_pass=False) instead.\n",
      "Saving figure sub_episodes_plot\n"
     ]
    },
    {
     "data": {
      "image/png": "[encoded data removed]",
      "text/plain": [
       "<Figure size 1000x680 with 6 Axes>"
      ]
     },
     "metadata": {},
     "output_type": "display_data"
    }
   ],
   "source": [
    "tf.random.set_seed(3) \n",
    "trajectories, buffer_info = next(iter(replay_buffer.as_dataset(\n",
    "    sample_batch_size=2,\n",
    "    num_steps=3,\n",
    "    single_deterministic_pass=False)))\n",
    "\n",
    "plt.figure(figsize=(10, 6.8))\n",
    "for row in range(2):\n",
    "    for col in range(3):\n",
    "        plt.subplot(2, 3, row * 3 + col + 1)\n",
    "        plot_observation(trajectories.observation[row, col].numpy())\n",
    "plt.subplots_adjust(left=0, right=1, bottom=0, top=1, hspace=0, wspace=0.02)\n",
    "save_fig(\"sub_episodes_plot\")\n",
    "plt.show()"
   ]
  },
  {
   "cell_type": "markdown",
   "metadata": {},
   "source": [
    "**Create dataset from replay buffer**"
   ]
  },
  {
   "cell_type": "code",
   "execution_count": null,
   "metadata": {},
   "outputs": [],
   "source": [
    "dataset = replay_buffer.as_dataset( # for our main loop, instead of calling the get_next() method, we use a tf.data.Dataset so we can benefit from parallelism and prefetching.\n",
    "    sample_batch_size=64, # We sample 64 trajectories at each training step (2015 DQN paper), each with 2 steps, e.g. 1 full transition.\n",
    "    num_steps=2,\n",
    "    num_parallel_calls=3 # This dataset willprocess 3 elements in parallel, and prefetch 3 batches.\n",
    ").prefetch(3) # While the model is executing training step s , the input pipeline is reading the data for step s+1 . Doing so reduces the step time to the maximum (as opposed to the sum) of the training and the time it takes to extract the data.\n"
   ]
  },
  {
   "cell_type": "markdown",
   "metadata": {},
   "source": [
    "**Convert main functions to tensorflow functions**"
   ]
  },
  {
   "cell_type": "code",
   "execution_count": null,
   "metadata": {},
   "outputs": [],
   "source": [
    "from tf_agents.utils.common import function\n",
    "collect_driver.run = function(collect_driver.run) # convert main functions to tensorflow functions for performance benefits.\n",
    "agent.train = function(agent.train)"
   ]
  },
  {
   "cell_type": "markdown",
   "metadata": {},
   "source": [
    "**Define function to train agent**"
   ]
  },
  {
   "cell_type": "code",
   "execution_count": null,
   "metadata": {},
   "outputs": [],
   "source": [
    "rewards = []\n",
    "def train_agent(n_iterations):\n",
    "    time_step = None\n",
    "    policy_state = agent.collect_policy.get_initial_state(tf_env.batch_size) # returns a nested object of type policy_state containing properly initialized Tensors.\n",
    "    iterator = iter(dataset)\n",
    "    for iteration in range(n_iterations):\n",
    "        time_step, policy_state = collect_driver.run(time_step, policy_state)\n",
    "        rewards.append(time_step.reward)\n",
    "        trajectories, buffer_info = next(iterator)\n",
    "        train_loss = agent.train(trajectories)\n",
    "        print(\"\\r{} loss:{:.5f}\".format(iteration, train_loss.loss.numpy()), end=\"\")\n",
    "        if iteration % 1000 == 0:\n",
    "            log_metrics(train_metrics)\n"
   ]
  },
  {
   "cell_type": "markdown",
   "metadata": {},
   "source": [
    "**train agent**"
   ]
  },
  {
   "cell_type": "code",
   "execution_count": null,
   "metadata": {},
   "outputs": [
    {
     "name": "stdout",
     "output_type": "stream",
     "text": [
      "WARNING:tensorflow:From c:\\Users\\bcart\\AppData\\Local\\Programs\\Python\\Python310\\lib\\site-packages\\tensorflow\\python\\util\\dispatch.py:1176: calling foldr_v2 (from tensorflow.python.ops.functional_ops) with back_prop=False is deprecated and will be removed in a future version.\n",
      "Instructions for updating:\n",
      "back_prop=False is deprecated. Consider using tf.stop_gradient instead.\n",
      "Instead of:\n",
      "results = tf.foldr(fn, elems, back_prop=False)\n",
      "Use:\n",
      "results = tf.nest.map_structure(tf.stop_gradient, tf.foldr(fn, elems))\n"
     ]
    },
    {
     "name": "stderr",
     "output_type": "stream",
     "text": [
      "INFO:absl: \n",
      "\t\t NumberOfEpisodes = 0\n",
      "\t\t EnvironmentSteps = 4\n",
      "\t\t AverageReturn = 0.0\n",
      "\t\t AverageEpisodeLength = 0.0\n"
     ]
    },
    {
     "name": "stdout",
     "output_type": "stream",
     "text": [
      "999 loss:0.00026"
     ]
    }
   ],
   "source": [
    "train_agent(n_iterations=10000000)"
   ]
  },
  {
   "cell_type": "markdown",
   "metadata": {},
   "source": [
    "### Visualize Double DQN Performance"
   ]
  },
  {
   "cell_type": "markdown",
   "metadata": {},
   "source": [
    "**Record video of performance**"
   ]
  },
  {
   "cell_type": "code",
   "execution_count": null,
   "metadata": {},
   "outputs": [
    {
     "name": "stdout",
     "output_type": "stream",
     "text": [
      "0/1000"
     ]
    },
    {
     "name": "stderr",
     "output_type": "stream",
     "text": [
      "c:\\Users\\bcart\\AppData\\Local\\Programs\\Python\\Python310\\lib\\site-packages\\matplotlib\\animation.py:879: UserWarning: Animation was deleted without rendering anything. This is most likely not intended. To prevent deletion, assign the Animation to a variable, e.g. `anim`, that exists until you output the Animation using `plt.show()` or `anim.save()`.\n",
      "  warnings.warn(\n"
     ]
    }
   ],
   "source": [
    "import matplotlib.animation as animation\n",
    "\n",
    "def update_scene(num, frames, patch):\n",
    "    patch.set_data(frames[num])\n",
    "    return patch,\n",
    "\n",
    "def plot_animation(frames, repeat=False, interval=40):\n",
    "    fig = plt.figure()\n",
    "    patch = plt.imshow(frames[0])\n",
    "    plt.axis('off')\n",
    "    anim = animation.FuncAnimation(\n",
    "        fig, update_scene, fargs=(frames, patch),\n",
    "        frames=len(frames), repeat=repeat, interval=interval)\n",
    "    plt.close()\n",
    "    return anim\n",
    "\n",
    "\n",
    "frames = []\n",
    "def save_frames(trajectory):\n",
    "    global frames\n",
    "    frames.append(tf_env.pyenv.envs[0].render(mode=\"rgb_array\"))\n",
    "watch_driver = DynamicStepDriver(\n",
    "    tf_env,\n",
    "    agent.policy,\n",
    "    observers=[save_frames, ShowProgress(1000)],\n",
    "    num_steps=1000)\n",
    "final_time_step, final_policy_state = watch_driver.run()\n",
    "\n",
    "plot_animation(frames)\n",
    "\n",
    "\n",
    "import PIL\n",
    "image_path = os.path.join(\"videos\", \"rl\", \"breakout.gif\")\n",
    "frame_images = [PIL.Image.fromarray(frame) for frame in frames[:150]]\n",
    "frame_images[0].save(image_path, format='GIF',\n",
    "                     append_images=frame_images[1:],\n",
    "                     save_all=True,\n",
    "                     duration=30,\n",
    "                     loop=0)"
   ]
  },
  {
   "cell_type": "markdown",
   "metadata": {},
   "source": [
    "**Plot reward per episode**"
   ]
  },
  {
   "cell_type": "code",
   "execution_count": null,
   "metadata": {},
   "outputs": [
    {
     "name": "stdout",
     "output_type": "stream",
     "text": [
      "Saving figure double_dqn_reward_plot\n"
     ]
    },
    {
     "data": {
      "image/png": "[encoded data removed]",
      "text/plain": [
       "<Figure size 800x400 with 1 Axes>"
      ]
     },
     "metadata": {},
     "output_type": "display_data"
    }
   ],
   "source": [
    "plt.figure(figsize=(8, 4))\n",
    "plt.plot(rewards)\n",
    "plt.xlabel(\"Episode\", fontsize=14)\n",
    "plt.ylabel(\"Reward per episode\", fontsize=14)\n",
    "save_fig(\"double_dqn_reward_plot\")\n",
    "plt.show()\n"
   ]
  }
 ],
 "metadata": {
  "kernelspec": {
   "display_name": "Python 3.10.7 64-bit",
   "language": "python",
   "name": "python3"
  },
  "language_info": {
   "codemirror_mode": {
    "name": "ipython",
    "version": 3
   },
   "file_extension": ".py",
   "mimetype": "text/x-python",
   "name": "python",
   "nbconvert_exporter": "python",
   "pygments_lexer": "ipython3",
   "version": "3.10.7"
  },
  "orig_nbformat": 4,
  "vscode": {
   "interpreter": {
    "hash": "746b5ec03341a8626bd948350cfdc4a299fa8b53d82bfaca140df5bfe1a44143"
   }
  }
 },
 "nbformat": 4,
 "nbformat_minor": 2
}
